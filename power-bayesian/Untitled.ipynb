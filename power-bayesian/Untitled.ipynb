{
 "cells": [
  {
   "cell_type": "markdown",
   "metadata": {},
   "source": [
    "A box contains a 4-sided die, a 6-sided die, an 8-sided die,\n",
    "a 12-sided die, and a 20-sided die. A die is selected at random, and the\n",
    "rest are destroyed.\n",
    "\n",
    "#1 What is the prior associated with choosing any one die?\n",
    "\n",
    "1/5\n",
    "\n",
    "\n",
    "#2 What is the likelihood function? You should assume that the die are all fair.\n",
    "\n",
    "\n",
    "P(Die|Roll) = [P(Roll|Die)=[1/4, 1/6, 1/8, 1/12, 1/20] * [P(Die)=1/5]     \n",
    "               / P(Roll)=depends\n",
    "\n",
    "\n",
    " 4: 1,2,3,4 -- 1/4\n",
    " 6: 1,2,3,4,5,6 -- 1/6\n",
    " 8: 1,2,3,4,5,6,7,8 -- 1/8\n",
    "12: 1,2,3,4,5,6,7,8,9,10,11,12 -- 1/12\n",
    "20: 1,2,3,4,5,6,7,8,9,10,11,12,13,14,15,16,17,18,19,20 -- 1/20\n",
    "\n",
    "\n",
    "P(1) = \n",
    "P(2)\n",
    "P(3)\n",
    "P(4)\n",
    "P(5)\n",
    "P(6)\n",
    "P(7)\n",
    "P(8) = P(8,4s)P(4s)=0 + P(8,6s)P(6s)=0 + P(8,8s)P(8s)=(1/8)(1/5) + P(8,12s)P(12s)=(1/12)(1/5) + P(8,20s)P(20s) + (1/20)(1/5) = .051666\n",
    "\n",
    "P(9)\n",
    "P(10)\n",
    "P(11)\n",
    "P(12)\n",
    "P(13...20)\n",
    "\n",
    "\n",
    "\n",
    "#3 Say I roll an 8. After one bayesian update, what is the probability that I chose each of the dice?\n",
    "\n",
    "\n",
    "P(Die|8) = [P(8|Die)=[1/4, 1/6, 1/8, 1/12, 1/20] * [P(Die)=1/5]     \n",
    "               / P(8)=0.051666\n",
    "               \n",
    " 4: 0\n",
    " 6: 0\n",
    " 8: .4839\n",
    "12: .3226\n",
    "20: .1935\n",
    "\n",
    "\n",
    "\n",
    "\n",
    "#4 Comment on the difference in the posteriors if I had rolled the die 50 times instead of 1.\n",
    "\n",
    "Distribution will weight heavily toward 8-sided die.\n",
    "\n",
    "\n",
    "\n",
    "#5 Which one of these two sets of data gives you a more certain posterior and why?\n",
    "\n",
    "`[1, 1, 1, 3, 1, 2]` or `[10, 10, 10, 10, 8, 8]`\n",
    "\n",
    "\n",
    "More distinct values in the second set which allows the probabilities of the 4, 6, and 8 sided dice to drop to 0.\n",
    "\n",
    "\n",
    "\n",
    "\n",
    "#6 Say that I modify my prior by my belief that bigger dice are more likely to be drawn from the box. This is my prior distribution:\n",
    "\n",
    "    ```\n",
    "    4-sided die: 8%\n",
    "    6-sided die: 12%\n",
    "    8-sided die: 16%\n",
    "    12-sided die: 24%\n",
    "    20-sided die: 40%\n",
    "    ```\n",
    "\n",
    "    What are my posteriors for each die after rolling the 8?\n",
    "\n",
    "    Which die do we think is most likely? Is this different than what you got with the previous prior?\n",
    "\n",
    "\n",
    "P(Die|8) = [P(8|Die)=[1/4, 1/6, 1/8, 1/12, 1/20] * \\\n",
    "                         [P(Die)=[.08,.12,.16,.24,.40]     \n",
    "            / P(8)=0.051666\n",
    "\n",
    "\n",
    "P(8) = P(8,4s)P(4s)=0 + P(8,6s)P(6s)=0 + P(8,8s)P(8s)=(1/8)(.16) + P(8,12s)P(12s)=(1/12)(.24) + P(8,20s)P(20s) + (1/20)(.40) = .051666\n",
    "\n",
    "\n",
    " 4: 0\n",
    " 6: 0\n",
    " 8: .3333\n",
    "12: .3333\n",
    "20: .3333\n",
    "\n",
    "All equally likely, no convergence.\n",
    "\n",
    "\n",
    "\n",
    "\n",
    "#7 Say you keep the same prior and you roll the die 50 times and get values 1-8 every time. What would you expect of the posterior? How different do you think it would be if you'd used the uniform prior?\n",
    "\n",
    "\n",
    "\n",
    "\n",
    "\n",
    "\n",
    "\n",
    "\n"
   ]
  },
  {
   "cell_type": "code",
   "execution_count": 27,
   "metadata": {
    "collapsed": false
   },
   "outputs": [
    {
     "data": {
      "text/plain": [
       "0.3333333333333333"
      ]
     },
     "execution_count": 27,
     "metadata": {},
     "output_type": "execute_result"
    }
   ],
   "source": [
    "(1/12.*.24)/(.06)"
   ]
  },
  {
   "cell_type": "code",
   "execution_count": 25,
   "metadata": {
    "collapsed": false
   },
   "outputs": [
    {
     "data": {
      "text/plain": [
       "0.06"
      ]
     },
     "execution_count": 25,
     "metadata": {},
     "output_type": "execute_result"
    }
   ],
   "source": [
    "1/8.*.16+1/12.*.24+1/20.*.4"
   ]
  },
  {
   "cell_type": "code",
   "execution_count": 35,
   "metadata": {
    "collapsed": true
   },
   "outputs": [],
   "source": [
    "d = {1:2, 2:70, 3:30}\n"
   ]
  },
  {
   "cell_type": "code",
   "execution_count": 36,
   "metadata": {
    "collapsed": false
   },
   "outputs": [
    {
     "data": {
      "text/plain": [
       "{1: 2, 2: 70, 3: 30}"
      ]
     },
     "execution_count": 36,
     "metadata": {},
     "output_type": "execute_result"
    }
   ],
   "source": [
    "d"
   ]
  },
  {
   "cell_type": "code",
   "execution_count": 37,
   "metadata": {
    "collapsed": false
   },
   "outputs": [
    {
     "data": {
      "text/plain": [
       "102"
      ]
     },
     "execution_count": 37,
     "metadata": {},
     "output_type": "execute_result"
    }
   ],
   "source": [
    "sum(d.values())"
   ]
  },
  {
   "cell_type": "code",
   "execution_count": 38,
   "metadata": {
    "collapsed": false
   },
   "outputs": [
    {
     "name": "stdout",
     "output_type": "stream",
     "text": [
      "3 30\n",
      "2 70\n",
      "1 2\n"
     ]
    }
   ],
   "source": [
    "for k, v in sorted(d.items(), reverse=True):\n",
    "    print k, v"
   ]
  },
  {
   "cell_type": "code",
   "execution_count": 39,
   "metadata": {
    "collapsed": true
   },
   "outputs": [],
   "source": [
    "uniform_die = {4: 1/4., 6: 1/6., 8: 1/8., 12: 1/12., 20: 1/20.}\n",
    "weighted_die = {4: .08, 6: .12, 8: .16, 12: .24, 20: .4}"
   ]
  },
  {
   "cell_type": "code",
   "execution_count": null,
   "metadata": {
    "collapsed": true
   },
   "outputs": [],
   "source": []
  }
 ],
 "metadata": {
  "kernelspec": {
   "display_name": "Python 2",
   "language": "python",
   "name": "python2"
  },
  "language_info": {
   "codemirror_mode": {
    "name": "ipython",
    "version": 2
   },
   "file_extension": ".py",
   "mimetype": "text/x-python",
   "name": "python",
   "nbconvert_exporter": "python",
   "pygments_lexer": "ipython2",
   "version": "2.7.11"
  }
 },
 "nbformat": 4,
 "nbformat_minor": 0
}
