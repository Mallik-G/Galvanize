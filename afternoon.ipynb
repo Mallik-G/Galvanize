{
 "cells": [
  {
   "cell_type": "markdown",
   "metadata": {},
   "source": [
    "## part I\n",
    "- Poisson distribution with $\\lambda$ = 2\n",
    "    P(x=0, $\\lambda$=2)"
   ]
  },
  {
   "cell_type": "code",
   "execution_count": 1,
   "metadata": {
    "collapsed": false
   },
   "outputs": [
    {
     "data": {
      "text/plain": [
       "0.1353352832366127"
      ]
     },
     "execution_count": 1,
     "metadata": {},
     "output_type": "execute_result"
    }
   ],
   "source": [
    "import math\n",
    "2**0*math.e**(-2)/math.factorial(0)"
   ]
  },
  {
   "cell_type": "markdown",
   "metadata": {},
   "source": [
    "- Binomial distribution"
   ]
  },
  {
   "cell_type": "code",
   "execution_count": 2,
   "metadata": {
    "collapsed": false
   },
   "outputs": [
    {
     "data": {
      "text/plain": [
       "0.2851798070642985"
      ]
     },
     "execution_count": 2,
     "metadata": {},
     "output_type": "execute_result"
    }
   ],
   "source": [
    "math.factorial(20)/(math.factorial(2)*math.factorial(18))*0.1**2*0.9**18"
   ]
  },
  {
   "cell_type": "markdown",
   "metadata": {},
   "source": [
    "- Exponential distrition"
   ]
  },
  {
   "cell_type": "code",
   "execution_count": 3,
   "metadata": {
    "collapsed": false
   },
   "outputs": [
    {
     "data": {
      "text/plain": [
       "0.22313016014842985"
      ]
     },
     "execution_count": 3,
     "metadata": {},
     "output_type": "execute_result"
    }
   ],
   "source": [
    "math.e**(-3.0/2)"
   ]
  },
  {
   "cell_type": "markdown",
   "metadata": {},
   "source": [
    "- Normal distribution with mean = 120, sd = 5"
   ]
  },
  {
   "cell_type": "code",
   "execution_count": 4,
   "metadata": {
    "collapsed": true
   },
   "outputs": [],
   "source": [
    "import scipy.stats"
   ]
  },
  {
   "cell_type": "code",
   "execution_count": 5,
   "metadata": {
    "collapsed": false
   },
   "outputs": [
    {
     "data": {
      "text/plain": [
       "0.080756659233771066"
      ]
     },
     "execution_count": 5,
     "metadata": {},
     "output_type": "execute_result"
    }
   ],
   "source": [
    "scipy.stats.norm.sf(127, loc = 120, scale = 5)"
   ]
  },
  {
   "cell_type": "markdown",
   "metadata": {},
   "source": [
    "- Geometric distribution"
   ]
  },
  {
   "cell_type": "code",
   "execution_count": 6,
   "metadata": {
    "collapsed": false
   },
   "outputs": [
    {
     "data": {
      "text/plain": [
       "12.500000000000012"
      ]
     },
     "execution_count": 6,
     "metadata": {},
     "output_type": "execute_result"
    }
   ],
   "source": [
    "p = 0\n",
    "for i in xrange(1000):\n",
    "    p+=(1-0.08)**(i)*0.08*(i+1)\n",
    "p"
   ]
  },
  {
   "cell_type": "code",
   "execution_count": 7,
   "metadata": {
    "collapsed": false
   },
   "outputs": [
    {
     "data": {
      "text/plain": [
       "12.5"
      ]
     },
     "execution_count": 7,
     "metadata": {},
     "output_type": "execute_result"
    }
   ],
   "source": [
    "1/0.08"
   ]
  },
  {
   "cell_type": "markdown",
   "metadata": {},
   "source": [
    "- Uniform distrition"
   ]
  },
  {
   "cell_type": "code",
   "execution_count": 8,
   "metadata": {
    "collapsed": false
   },
   "outputs": [
    {
     "data": {
      "text/plain": [
       "0.25"
      ]
     },
     "execution_count": 8,
     "metadata": {},
     "output_type": "execute_result"
    }
   ],
   "source": [
    "5.0/20"
   ]
  },
  {
   "cell_type": "markdown",
   "metadata": {},
   "source": [
    "## Part 2: Covariance and Joint Distribution"
   ]
  },
  {
   "cell_type": "code",
   "execution_count": 9,
   "metadata": {
    "collapsed": false
   },
   "outputs": [
    {
     "ename": "IOError",
     "evalue": "File data/admissions.csv does not exist",
     "output_type": "error",
     "traceback": [
      "\u001b[0;31m---------------------------------------------------------------------------\u001b[0m",
      "\u001b[0;31mIOError\u001b[0m                                   Traceback (most recent call last)",
      "\u001b[0;32m<ipython-input-9-48e6239edcda>\u001b[0m in \u001b[0;36m<module>\u001b[0;34m()\u001b[0m\n\u001b[1;32m      1\u001b[0m \u001b[0;32mimport\u001b[0m \u001b[0mpandas\u001b[0m \u001b[0;32mas\u001b[0m \u001b[0mpd\u001b[0m\u001b[0;34m\u001b[0m\u001b[0m\n\u001b[0;32m----> 2\u001b[0;31m \u001b[0mdf\u001b[0m \u001b[0;34m=\u001b[0m \u001b[0mpd\u001b[0m\u001b[0;34m.\u001b[0m\u001b[0mread_csv\u001b[0m\u001b[0;34m(\u001b[0m\u001b[0;34m'data/admissions.csv'\u001b[0m\u001b[0;34m)\u001b[0m\u001b[0;34m\u001b[0m\u001b[0m\n\u001b[0m",
      "\u001b[0;32m/Users/patrickkennedy/anaconda/lib/python2.7/site-packages/pandas/io/parsers.pyc\u001b[0m in \u001b[0;36mparser_f\u001b[0;34m(filepath_or_buffer, sep, dialect, compression, doublequote, escapechar, quotechar, quoting, skipinitialspace, lineterminator, header, index_col, names, prefix, skiprows, skipfooter, skip_footer, na_values, true_values, false_values, delimiter, converters, dtype, usecols, engine, delim_whitespace, as_recarray, na_filter, compact_ints, use_unsigned, low_memory, buffer_lines, warn_bad_lines, error_bad_lines, keep_default_na, thousands, comment, decimal, parse_dates, keep_date_col, dayfirst, date_parser, memory_map, float_precision, nrows, iterator, chunksize, verbose, encoding, squeeze, mangle_dupe_cols, tupleize_cols, infer_datetime_format, skip_blank_lines)\u001b[0m\n\u001b[1;32m    496\u001b[0m                     skip_blank_lines=skip_blank_lines)\n\u001b[1;32m    497\u001b[0m \u001b[0;34m\u001b[0m\u001b[0m\n\u001b[0;32m--> 498\u001b[0;31m         \u001b[0;32mreturn\u001b[0m \u001b[0m_read\u001b[0m\u001b[0;34m(\u001b[0m\u001b[0mfilepath_or_buffer\u001b[0m\u001b[0;34m,\u001b[0m \u001b[0mkwds\u001b[0m\u001b[0;34m)\u001b[0m\u001b[0;34m\u001b[0m\u001b[0m\n\u001b[0m\u001b[1;32m    499\u001b[0m \u001b[0;34m\u001b[0m\u001b[0m\n\u001b[1;32m    500\u001b[0m     \u001b[0mparser_f\u001b[0m\u001b[0;34m.\u001b[0m\u001b[0m__name__\u001b[0m \u001b[0;34m=\u001b[0m \u001b[0mname\u001b[0m\u001b[0;34m\u001b[0m\u001b[0m\n",
      "\u001b[0;32m/Users/patrickkennedy/anaconda/lib/python2.7/site-packages/pandas/io/parsers.pyc\u001b[0m in \u001b[0;36m_read\u001b[0;34m(filepath_or_buffer, kwds)\u001b[0m\n\u001b[1;32m    273\u001b[0m \u001b[0;34m\u001b[0m\u001b[0m\n\u001b[1;32m    274\u001b[0m     \u001b[0;31m# Create the parser.\u001b[0m\u001b[0;34m\u001b[0m\u001b[0;34m\u001b[0m\u001b[0m\n\u001b[0;32m--> 275\u001b[0;31m     \u001b[0mparser\u001b[0m \u001b[0;34m=\u001b[0m \u001b[0mTextFileReader\u001b[0m\u001b[0;34m(\u001b[0m\u001b[0mfilepath_or_buffer\u001b[0m\u001b[0;34m,\u001b[0m \u001b[0;34m**\u001b[0m\u001b[0mkwds\u001b[0m\u001b[0;34m)\u001b[0m\u001b[0;34m\u001b[0m\u001b[0m\n\u001b[0m\u001b[1;32m    276\u001b[0m \u001b[0;34m\u001b[0m\u001b[0m\n\u001b[1;32m    277\u001b[0m     \u001b[0;32mif\u001b[0m \u001b[0;34m(\u001b[0m\u001b[0mnrows\u001b[0m \u001b[0;32mis\u001b[0m \u001b[0;32mnot\u001b[0m \u001b[0mNone\u001b[0m\u001b[0;34m)\u001b[0m \u001b[0;32mand\u001b[0m \u001b[0;34m(\u001b[0m\u001b[0mchunksize\u001b[0m \u001b[0;32mis\u001b[0m \u001b[0;32mnot\u001b[0m \u001b[0mNone\u001b[0m\u001b[0;34m)\u001b[0m\u001b[0;34m:\u001b[0m\u001b[0;34m\u001b[0m\u001b[0m\n",
      "\u001b[0;32m/Users/patrickkennedy/anaconda/lib/python2.7/site-packages/pandas/io/parsers.pyc\u001b[0m in \u001b[0;36m__init__\u001b[0;34m(self, f, engine, **kwds)\u001b[0m\n\u001b[1;32m    588\u001b[0m             \u001b[0mself\u001b[0m\u001b[0;34m.\u001b[0m\u001b[0moptions\u001b[0m\u001b[0;34m[\u001b[0m\u001b[0;34m'has_index_names'\u001b[0m\u001b[0;34m]\u001b[0m \u001b[0;34m=\u001b[0m \u001b[0mkwds\u001b[0m\u001b[0;34m[\u001b[0m\u001b[0;34m'has_index_names'\u001b[0m\u001b[0;34m]\u001b[0m\u001b[0;34m\u001b[0m\u001b[0m\n\u001b[1;32m    589\u001b[0m \u001b[0;34m\u001b[0m\u001b[0m\n\u001b[0;32m--> 590\u001b[0;31m         \u001b[0mself\u001b[0m\u001b[0;34m.\u001b[0m\u001b[0m_make_engine\u001b[0m\u001b[0;34m(\u001b[0m\u001b[0mself\u001b[0m\u001b[0;34m.\u001b[0m\u001b[0mengine\u001b[0m\u001b[0;34m)\u001b[0m\u001b[0;34m\u001b[0m\u001b[0m\n\u001b[0m\u001b[1;32m    591\u001b[0m \u001b[0;34m\u001b[0m\u001b[0m\n\u001b[1;32m    592\u001b[0m     \u001b[0;32mdef\u001b[0m \u001b[0m_get_options_with_defaults\u001b[0m\u001b[0;34m(\u001b[0m\u001b[0mself\u001b[0m\u001b[0;34m,\u001b[0m \u001b[0mengine\u001b[0m\u001b[0;34m)\u001b[0m\u001b[0;34m:\u001b[0m\u001b[0;34m\u001b[0m\u001b[0m\n",
      "\u001b[0;32m/Users/patrickkennedy/anaconda/lib/python2.7/site-packages/pandas/io/parsers.pyc\u001b[0m in \u001b[0;36m_make_engine\u001b[0;34m(self, engine)\u001b[0m\n\u001b[1;32m    729\u001b[0m     \u001b[0;32mdef\u001b[0m \u001b[0m_make_engine\u001b[0m\u001b[0;34m(\u001b[0m\u001b[0mself\u001b[0m\u001b[0;34m,\u001b[0m \u001b[0mengine\u001b[0m\u001b[0;34m=\u001b[0m\u001b[0;34m'c'\u001b[0m\u001b[0;34m)\u001b[0m\u001b[0;34m:\u001b[0m\u001b[0;34m\u001b[0m\u001b[0m\n\u001b[1;32m    730\u001b[0m         \u001b[0;32mif\u001b[0m \u001b[0mengine\u001b[0m \u001b[0;34m==\u001b[0m \u001b[0;34m'c'\u001b[0m\u001b[0;34m:\u001b[0m\u001b[0;34m\u001b[0m\u001b[0m\n\u001b[0;32m--> 731\u001b[0;31m             \u001b[0mself\u001b[0m\u001b[0;34m.\u001b[0m\u001b[0m_engine\u001b[0m \u001b[0;34m=\u001b[0m \u001b[0mCParserWrapper\u001b[0m\u001b[0;34m(\u001b[0m\u001b[0mself\u001b[0m\u001b[0;34m.\u001b[0m\u001b[0mf\u001b[0m\u001b[0;34m,\u001b[0m \u001b[0;34m**\u001b[0m\u001b[0mself\u001b[0m\u001b[0;34m.\u001b[0m\u001b[0moptions\u001b[0m\u001b[0;34m)\u001b[0m\u001b[0;34m\u001b[0m\u001b[0m\n\u001b[0m\u001b[1;32m    732\u001b[0m         \u001b[0;32melse\u001b[0m\u001b[0;34m:\u001b[0m\u001b[0;34m\u001b[0m\u001b[0m\n\u001b[1;32m    733\u001b[0m             \u001b[0;32mif\u001b[0m \u001b[0mengine\u001b[0m \u001b[0;34m==\u001b[0m \u001b[0;34m'python'\u001b[0m\u001b[0;34m:\u001b[0m\u001b[0;34m\u001b[0m\u001b[0m\n",
      "\u001b[0;32m/Users/patrickkennedy/anaconda/lib/python2.7/site-packages/pandas/io/parsers.pyc\u001b[0m in \u001b[0;36m__init__\u001b[0;34m(self, src, **kwds)\u001b[0m\n\u001b[1;32m   1101\u001b[0m         \u001b[0mkwds\u001b[0m\u001b[0;34m[\u001b[0m\u001b[0;34m'allow_leading_cols'\u001b[0m\u001b[0;34m]\u001b[0m \u001b[0;34m=\u001b[0m \u001b[0mself\u001b[0m\u001b[0;34m.\u001b[0m\u001b[0mindex_col\u001b[0m \u001b[0;32mis\u001b[0m \u001b[0;32mnot\u001b[0m \u001b[0mFalse\u001b[0m\u001b[0;34m\u001b[0m\u001b[0m\n\u001b[1;32m   1102\u001b[0m \u001b[0;34m\u001b[0m\u001b[0m\n\u001b[0;32m-> 1103\u001b[0;31m         \u001b[0mself\u001b[0m\u001b[0;34m.\u001b[0m\u001b[0m_reader\u001b[0m \u001b[0;34m=\u001b[0m \u001b[0m_parser\u001b[0m\u001b[0;34m.\u001b[0m\u001b[0mTextReader\u001b[0m\u001b[0;34m(\u001b[0m\u001b[0msrc\u001b[0m\u001b[0;34m,\u001b[0m \u001b[0;34m**\u001b[0m\u001b[0mkwds\u001b[0m\u001b[0;34m)\u001b[0m\u001b[0;34m\u001b[0m\u001b[0m\n\u001b[0m\u001b[1;32m   1104\u001b[0m \u001b[0;34m\u001b[0m\u001b[0m\n\u001b[1;32m   1105\u001b[0m         \u001b[0;31m# XXX\u001b[0m\u001b[0;34m\u001b[0m\u001b[0;34m\u001b[0m\u001b[0m\n",
      "\u001b[0;32mpandas/parser.pyx\u001b[0m in \u001b[0;36mpandas.parser.TextReader.__cinit__ (pandas/parser.c:3246)\u001b[0;34m()\u001b[0m\n",
      "\u001b[0;32mpandas/parser.pyx\u001b[0m in \u001b[0;36mpandas.parser.TextReader._setup_parser_source (pandas/parser.c:6111)\u001b[0;34m()\u001b[0m\n",
      "\u001b[0;31mIOError\u001b[0m: File data/admissions.csv does not exist"
     ]
    }
   ],
   "source": [
    "import pandas as pd\n",
    "df = pd.read_csv('data/admissions.csv')"
   ]
  },
  {
   "cell_type": "markdown",
   "metadata": {},
   "source": [
    "#### Covariance"
   ]
  },
  {
   "cell_type": "code",
   "execution_count": null,
   "metadata": {
    "collapsed": false
   },
   "outputs": [],
   "source": [
    "df.cov()"
   ]
  },
  {
   "cell_type": "code",
   "execution_count": null,
   "metadata": {
    "collapsed": false
   },
   "outputs": [],
   "source": [
    "mean_fam_income = df['family_income'].mean()\n",
    "mean_gpa = df['gpa'].mean()\n",
    "mean_parent = df['parent_avg_age'].mean()"
   ]
  },
  {
   "cell_type": "code",
   "execution_count": 10,
   "metadata": {
    "collapsed": false
   },
   "outputs": [
    {
     "ename": "NameError",
     "evalue": "name 'df' is not defined",
     "output_type": "error",
     "traceback": [
      "\u001b[0;31m---------------------------------------------------------------------------\u001b[0m",
      "\u001b[0;31mNameError\u001b[0m                                 Traceback (most recent call last)",
      "\u001b[0;32m<ipython-input-10-a910ff7a5ad0>\u001b[0m in \u001b[0;36m<module>\u001b[0;34m()\u001b[0m\n\u001b[0;32m----> 1\u001b[0;31m \u001b[0mcov_fam_gpa\u001b[0m \u001b[0;34m=\u001b[0m \u001b[0msum\u001b[0m\u001b[0;34m(\u001b[0m\u001b[0;34m(\u001b[0m\u001b[0mdf\u001b[0m\u001b[0;34m.\u001b[0m\u001b[0mfamily_income\u001b[0m \u001b[0;34m-\u001b[0m \u001b[0mmean_fam_income\u001b[0m\u001b[0;34m)\u001b[0m\u001b[0;34m*\u001b[0m\u001b[0;34m(\u001b[0m\u001b[0mdf\u001b[0m\u001b[0;34m.\u001b[0m\u001b[0mgpa\u001b[0m \u001b[0;34m-\u001b[0m \u001b[0mmean_gpa\u001b[0m\u001b[0;34m)\u001b[0m\u001b[0;34m)\u001b[0m \u001b[0;34m/\u001b[0m \u001b[0;34m(\u001b[0m\u001b[0;36m1.\u001b[0m\u001b[0;34m*\u001b[0m\u001b[0;34m(\u001b[0m\u001b[0mlen\u001b[0m\u001b[0;34m(\u001b[0m\u001b[0mdf\u001b[0m\u001b[0;34m.\u001b[0m\u001b[0mgpa\u001b[0m\u001b[0;34m)\u001b[0m\u001b[0;34m-\u001b[0m\u001b[0;36m1\u001b[0m\u001b[0;34m)\u001b[0m\u001b[0;34m)\u001b[0m\u001b[0;34m\u001b[0m\u001b[0m\n\u001b[0m\u001b[1;32m      2\u001b[0m \u001b[0mcov_par_gpa\u001b[0m \u001b[0;34m=\u001b[0m \u001b[0msum\u001b[0m\u001b[0;34m(\u001b[0m\u001b[0;34m(\u001b[0m\u001b[0mdf\u001b[0m\u001b[0;34m.\u001b[0m\u001b[0mparent_avg_age\u001b[0m \u001b[0;34m-\u001b[0m \u001b[0mmean_parent\u001b[0m\u001b[0;34m)\u001b[0m\u001b[0;34m*\u001b[0m\u001b[0;34m(\u001b[0m\u001b[0mdf\u001b[0m\u001b[0;34m.\u001b[0m\u001b[0mgpa\u001b[0m \u001b[0;34m-\u001b[0m \u001b[0mmean_gpa\u001b[0m\u001b[0;34m)\u001b[0m\u001b[0;34m)\u001b[0m \u001b[0;34m/\u001b[0m \u001b[0;34m(\u001b[0m\u001b[0;36m1.\u001b[0m\u001b[0;34m*\u001b[0m\u001b[0;34m(\u001b[0m\u001b[0mlen\u001b[0m\u001b[0;34m(\u001b[0m\u001b[0mdf\u001b[0m\u001b[0;34m.\u001b[0m\u001b[0mgpa\u001b[0m\u001b[0;34m)\u001b[0m\u001b[0;34m-\u001b[0m\u001b[0;36m1\u001b[0m\u001b[0;34m)\u001b[0m\u001b[0;34m)\u001b[0m\u001b[0;34m\u001b[0m\u001b[0m\n\u001b[1;32m      3\u001b[0m \u001b[0mcov_fam_par\u001b[0m \u001b[0;34m=\u001b[0m \u001b[0msum\u001b[0m\u001b[0;34m(\u001b[0m\u001b[0;34m(\u001b[0m\u001b[0mdf\u001b[0m\u001b[0;34m.\u001b[0m\u001b[0mfamily_income\u001b[0m \u001b[0;34m-\u001b[0m \u001b[0mmean_fam_income\u001b[0m\u001b[0;34m)\u001b[0m\u001b[0;34m*\u001b[0m\u001b[0;34m(\u001b[0m\u001b[0mdf\u001b[0m\u001b[0;34m.\u001b[0m\u001b[0mparent_avg_age\u001b[0m \u001b[0;34m-\u001b[0m \u001b[0mmean_parent\u001b[0m\u001b[0;34m)\u001b[0m\u001b[0;34m)\u001b[0m \u001b[0;34m/\u001b[0m \u001b[0;34m(\u001b[0m\u001b[0;36m1.\u001b[0m\u001b[0;34m*\u001b[0m\u001b[0;34m(\u001b[0m\u001b[0mlen\u001b[0m\u001b[0;34m(\u001b[0m\u001b[0mdf\u001b[0m\u001b[0;34m.\u001b[0m\u001b[0mgpa\u001b[0m\u001b[0;34m)\u001b[0m\u001b[0;34m-\u001b[0m\u001b[0;36m1\u001b[0m\u001b[0;34m)\u001b[0m\u001b[0;34m)\u001b[0m\u001b[0;34m\u001b[0m\u001b[0m\n",
      "\u001b[0;31mNameError\u001b[0m: name 'df' is not defined"
     ]
    }
   ],
   "source": [
    "cov_fam_gpa = sum((df.family_income - mean_fam_income)*(df.gpa - mean_gpa)) / (1.*(len(df.gpa)-1))\n",
    "cov_par_gpa = sum((df.parent_avg_age - mean_parent)*(df.gpa - mean_gpa)) / (1.*(len(df.gpa)-1))\n",
    "cov_fam_par = sum((df.family_income - mean_fam_income)*(df.parent_avg_age - mean_parent)) / (1.*(len(df.gpa)-1))"
   ]
  },
  {
   "cell_type": "code",
   "execution_count": 11,
   "metadata": {
    "collapsed": false
   },
   "outputs": [
    {
     "ename": "NameError",
     "evalue": "name 'cov_fam_gpa' is not defined",
     "output_type": "error",
     "traceback": [
      "\u001b[0;31m---------------------------------------------------------------------------\u001b[0m",
      "\u001b[0;31mNameError\u001b[0m                                 Traceback (most recent call last)",
      "\u001b[0;32m<ipython-input-11-8b29fcb04c5d>\u001b[0m in \u001b[0;36m<module>\u001b[0;34m()\u001b[0m\n\u001b[0;32m----> 1\u001b[0;31m \u001b[0;32mprint\u001b[0m \u001b[0mcov_fam_gpa\u001b[0m\u001b[0;34m,\u001b[0m \u001b[0mcov_par_gpa\u001b[0m\u001b[0;34m,\u001b[0m \u001b[0mcov_fam_par\u001b[0m\u001b[0;34m\u001b[0m\u001b[0m\n\u001b[0m",
      "\u001b[0;31mNameError\u001b[0m: name 'cov_fam_gpa' is not defined"
     ]
    }
   ],
   "source": [
    "print cov_fam_gpa, cov_par_gpa, cov_fam_par"
   ]
  },
  {
   "cell_type": "markdown",
   "metadata": {},
   "source": [
    "#### Correlation"
   ]
  },
  {
   "cell_type": "code",
   "execution_count": 12,
   "metadata": {
    "collapsed": false
   },
   "outputs": [
    {
     "ename": "NameError",
     "evalue": "name 'df' is not defined",
     "output_type": "error",
     "traceback": [
      "\u001b[0;31m---------------------------------------------------------------------------\u001b[0m",
      "\u001b[0;31mNameError\u001b[0m                                 Traceback (most recent call last)",
      "\u001b[0;32m<ipython-input-12-e7888593ecbc>\u001b[0m in \u001b[0;36m<module>\u001b[0;34m()\u001b[0m\n\u001b[0;32m----> 1\u001b[0;31m \u001b[0mdf\u001b[0m\u001b[0;34m.\u001b[0m\u001b[0mcorr\u001b[0m\u001b[0;34m(\u001b[0m\u001b[0;34m)\u001b[0m\u001b[0;34m\u001b[0m\u001b[0m\n\u001b[0m",
      "\u001b[0;31mNameError\u001b[0m: name 'df' is not defined"
     ]
    }
   ],
   "source": [
    "df.corr()"
   ]
  },
  {
   "cell_type": "code",
   "execution_count": 13,
   "metadata": {
    "collapsed": false
   },
   "outputs": [
    {
     "ename": "NameError",
     "evalue": "name 'cov_fam_gpa' is not defined",
     "output_type": "error",
     "traceback": [
      "\u001b[0;31m---------------------------------------------------------------------------\u001b[0m",
      "\u001b[0;31mNameError\u001b[0m                                 Traceback (most recent call last)",
      "\u001b[0;32m<ipython-input-13-de5eb090bee7>\u001b[0m in \u001b[0;36m<module>\u001b[0;34m()\u001b[0m\n\u001b[0;32m----> 1\u001b[0;31m \u001b[0mcorr_fam_gpa\u001b[0m \u001b[0;34m=\u001b[0m \u001b[0mcov_fam_gpa\u001b[0m \u001b[0;34m/\u001b[0m \u001b[0;34m(\u001b[0m\u001b[0mdf\u001b[0m\u001b[0;34m.\u001b[0m\u001b[0mfamily_income\u001b[0m\u001b[0;34m.\u001b[0m\u001b[0mstd\u001b[0m\u001b[0;34m(\u001b[0m\u001b[0;34m)\u001b[0m\u001b[0;34m*\u001b[0m\u001b[0mdf\u001b[0m\u001b[0;34m.\u001b[0m\u001b[0mgpa\u001b[0m\u001b[0;34m.\u001b[0m\u001b[0mstd\u001b[0m\u001b[0;34m(\u001b[0m\u001b[0;34m)\u001b[0m\u001b[0;34m)\u001b[0m\u001b[0;34m\u001b[0m\u001b[0m\n\u001b[0m\u001b[1;32m      2\u001b[0m \u001b[0mcorr_par_gpa\u001b[0m \u001b[0;34m=\u001b[0m \u001b[0mcov_par_gpa\u001b[0m \u001b[0;34m/\u001b[0m \u001b[0;34m(\u001b[0m\u001b[0mdf\u001b[0m\u001b[0;34m.\u001b[0m\u001b[0mparent_avg_age\u001b[0m\u001b[0;34m.\u001b[0m\u001b[0mstd\u001b[0m\u001b[0;34m(\u001b[0m\u001b[0;34m)\u001b[0m\u001b[0;34m*\u001b[0m\u001b[0mdf\u001b[0m\u001b[0;34m.\u001b[0m\u001b[0mgpa\u001b[0m\u001b[0;34m.\u001b[0m\u001b[0mstd\u001b[0m\u001b[0;34m(\u001b[0m\u001b[0;34m)\u001b[0m\u001b[0;34m)\u001b[0m\u001b[0;34m\u001b[0m\u001b[0m\n\u001b[1;32m      3\u001b[0m \u001b[0mcorr_fam_par\u001b[0m \u001b[0;34m=\u001b[0m \u001b[0mcov_fam_par\u001b[0m \u001b[0;34m/\u001b[0m \u001b[0;34m(\u001b[0m\u001b[0mdf\u001b[0m\u001b[0;34m.\u001b[0m\u001b[0mfamily_income\u001b[0m\u001b[0;34m.\u001b[0m\u001b[0mstd\u001b[0m\u001b[0;34m(\u001b[0m\u001b[0;34m)\u001b[0m\u001b[0;34m*\u001b[0m\u001b[0mdf\u001b[0m\u001b[0;34m.\u001b[0m\u001b[0mparent_avg_age\u001b[0m\u001b[0;34m.\u001b[0m\u001b[0mstd\u001b[0m\u001b[0;34m(\u001b[0m\u001b[0;34m)\u001b[0m\u001b[0;34m)\u001b[0m\u001b[0;34m\u001b[0m\u001b[0m\n",
      "\u001b[0;31mNameError\u001b[0m: name 'cov_fam_gpa' is not defined"
     ]
    }
   ],
   "source": [
    "corr_fam_gpa = cov_fam_gpa / (df.family_income.std()*df.gpa.std())\n",
    "corr_par_gpa = cov_par_gpa / (df.parent_avg_age.std()*df.gpa.std())\n",
    "corr_fam_par = cov_fam_par / (df.family_income.std()*df.parent_avg_age.std())"
   ]
  },
  {
   "cell_type": "code",
   "execution_count": 16,
   "metadata": {
    "collapsed": false
   },
   "outputs": [
    {
     "name": "stdout",
     "output_type": "stream",
     "text": [
      "0.742269390204 -0.00913485396451 -0.0063230482719\n"
     ]
    }
   ],
   "source": [
    "print corr_fam_gpa, corr_par_gpa, corr_fam_par"
   ]
  },
  {
   "cell_type": "code",
   "execution_count": 17,
   "metadata": {
    "collapsed": false
   },
   "outputs": [],
   "source": [
    "import matplotlib.pyplot as plt\n",
    "%matplotlib inline"
   ]
  },
  {
   "cell_type": "code",
   "execution_count": 18,
   "metadata": {
    "collapsed": true
   },
   "outputs": [],
   "source": [
    "income_low = df[df.family_income <= 26832]\n",
    "income_med = df[(df.family_income > 26832) & (df.family_income <= 37510)]\n",
    "income_high = df[df.family_income > 37511]"
   ]
  },
  {
   "cell_type": "code",
   "execution_count": 19,
   "metadata": {
    "collapsed": true
   },
   "outputs": [],
   "source": [
    "from scipy.stats.kde import gaussian_kde"
   ]
  },
  {
   "cell_type": "code",
   "execution_count": 20,
   "metadata": {
    "collapsed": true
   },
   "outputs": [],
   "source": [
    "my_pdf_low = gaussian_kde(income_low.gpa)\n",
    "my_pdf_med = gaussian_kde(income_med.gpa)\n",
    "my_pdf_high = gaussian_kde(income_high.gpa)"
   ]
  },
  {
   "cell_type": "code",
   "execution_count": 21,
   "metadata": {
    "collapsed": true
   },
   "outputs": [],
   "source": [
    "import numpy as np"
   ]
  },
  {
   "cell_type": "code",
   "execution_count": 22,
   "metadata": {
    "collapsed": false
   },
   "outputs": [
    {
     "data": {
      "image/png": "[encoded data removed]",
      "text/plain": [
       "<matplotlib.figure.Figure at 0x116b6a910>"
      ]
     },
     "metadata": {},
     "output_type": "display_data"
    }
   ],
   "source": [
    "x = np.linspace(2.,4.,1000)\n",
    "\n",
    "plt.plot(x, my_pdf_low(x), label='low income')\n",
    "plt.plot(x, my_pdf_med(x), label='med income')\n",
    "plt.plot(x, my_pdf_high(x), label='high income')\n",
    "plt.legend()\n",
    "plt.xlabel('GPA')\n",
    "plt.ylabel('Probability Density')\n",
    "plt.show()"
   ]
  },
  {
   "cell_type": "markdown",
   "metadata": {},
   "source": [
    "Percentile cutoffs"
   ]
  },
  {
   "cell_type": "code",
   "execution_count": 23,
   "metadata": {
    "collapsed": false
   },
   "outputs": [],
   "source": [
    "low_90p_cutoff = np.percentile(income_low.gpa, 90)\n",
    "med_90p_cutoff = np.percentile(income_med.gpa, 90)\n",
    "high_90p_cutoff = np.percentile(income_high.gpa, 90)"
   ]
  },
  {
   "cell_type": "code",
   "execution_count": 24,
   "metadata": {
    "collapsed": false
   },
   "outputs": [
    {
     "name": "stdout",
     "output_type": "stream",
     "text": [
      "3.01 3.26 3.49\n"
     ]
    }
   ],
   "source": [
    "print low_90p_cutoff, med_90p_cutoff, high_90p_cutoff"
   ]
  },
  {
   "cell_type": "markdown",
   "metadata": {},
   "source": [
    "## Part 3: Pearson vs Spearman"
   ]
  },
  {
   "cell_type": "code",
   "execution_count": 25,
   "metadata": {
    "collapsed": true
   },
   "outputs": [],
   "source": [
    "df_hours = pd.read_csv('data/admissions_with_study_hrs_and_sports.csv')"
   ]
  },
  {
   "cell_type": "code",
   "execution_count": 26,
   "metadata": {
    "collapsed": false
   },
   "outputs": [
    {
     "data": {
      "text/plain": [
       "<matplotlib.collections.PathCollection at 0x119d92e10>"
      ]
     },
     "execution_count": 26,
     "metadata": {},
     "output_type": "execute_result"
    },
    {
     "data": {
      "image/png": "[encoded data removed]",
      "text/plain": [
       "<matplotlib.figure.Figure at 0x116b4ab90>"
      ]
     },
     "metadata": {},
     "output_type": "display_data"
    }
   ],
   "source": [
    "plt.scatter(df_hours['hrs_studied'], df_hours['gpa'], alpha = 0.1)"
   ]
  },
  {
   "cell_type": "code",
   "execution_count": 27,
   "metadata": {
    "collapsed": false
   },
   "outputs": [
    {
     "data": {
      "text/plain": [
       "[<matplotlib.lines.Line2D at 0x116b4ab50>]"
      ]
     },
     "execution_count": 27,
     "metadata": {},
     "output_type": "execute_result"
    },
    {
     "data": {
      "image/png": "[encoded data removed]",
      "text/plain": [
       "<matplotlib.figure.Figure at 0x1198d6b50>"
      ]
     },
     "metadata": {},
     "output_type": "display_data"
    }
   ],
   "source": [
    "slope, intercept, r_value, p_value, std_err = scipy.stats.linregress(df_hours.hrs_studied, df_hours.gpa)\n",
    "hrs = np.linspace(0, 10000, 10000)\n",
    "gpa_predict = hrs * slope + intercept\n",
    "plt.scatter(df_hours['hrs_studied'], df_hours['gpa'], alpha = 0.1)\n",
    "plt.plot(hrs, gpa_predict)"
   ]
  },
  {
   "cell_type": "code",
   "execution_count": 28,
   "metadata": {
    "collapsed": false
   },
   "outputs": [
    {
     "data": {
      "text/plain": [
       "0.47594026466221012"
      ]
     },
     "execution_count": 28,
     "metadata": {},
     "output_type": "execute_result"
    }
   ],
   "source": [
    "p_coeff, p_value = scipy.stats.pearsonr(df_hours.hrs_studied, df_hours.gpa)\n",
    "p_coeff"
   ]
  },
  {
   "cell_type": "code",
   "execution_count": 29,
   "metadata": {
    "collapsed": false
   },
   "outputs": [
    {
     "data": {
      "text/plain": [
       "0.98495916559333341"
      ]
     },
     "execution_count": 29,
     "metadata": {},
     "output_type": "execute_result"
    }
   ],
   "source": [
    "r_coeff, p_value = scipy.stats.spearmanr(df_hours.hrs_studied, df_hours.gpa)\n",
    "r_coeff"
   ]
  },
  {
   "cell_type": "code",
   "execution_count": 30,
   "metadata": {
    "collapsed": false
   },
   "outputs": [
    {
     "data": {
      "text/plain": [
       "<matplotlib.collections.PathCollection at 0x11a4e03d0>"
      ]
     },
     "execution_count": 30,
     "metadata": {},
     "output_type": "execute_result"
    },
    {
     "data": {
      "image/png": "[encoded data removed]",
      "text/plain": [
       "<matplotlib.figure.Figure at 0x1198f6d90>"
      ]
     },
     "metadata": {},
     "output_type": "display_data"
    }
   ],
   "source": [
    "plt.scatter(df_hours['sport_performance'], df_hours['gpa'], alpha = 0.1)"
   ]
  },
  {
   "cell_type": "code",
   "execution_count": 31,
   "metadata": {
    "collapsed": false
   },
   "outputs": [
    {
     "data": {
      "text/plain": [
       "[<matplotlib.lines.Line2D at 0x119debe10>]"
      ]
     },
     "execution_count": 31,
     "metadata": {},
     "output_type": "execute_result"
    },
    {
     "data": {
      "image/png": "[encoded data removed]",
      "text/plain": [
       "<matplotlib.figure.Figure at 0x119da1d10>"
      ]
     },
     "metadata": {},
     "output_type": "display_data"
    }
   ],
   "source": [
    "slope, intercept, r_value, p_value, std_err = \\\n",
    "scipy.stats.linregress(df_hours.gpa, df_hours.sport_performance)\n",
    "gpa = np.linspace(2, 4, 10000)\n",
    "sports_predict = gpa * slope + intercept\n",
    "plt.scatter(df_hours.gpa, df_hours.sport_performance, alpha = 0.1)\n",
    "plt.plot(gpa, sports_predict)"
   ]
  },
  {
   "cell_type": "code",
   "execution_count": 32,
   "metadata": {
    "collapsed": false
   },
   "outputs": [
    {
     "data": {
      "text/plain": [
       "0.023848596954762224"
      ]
     },
     "execution_count": 32,
     "metadata": {},
     "output_type": "execute_result"
    }
   ],
   "source": [
    "p_coeff, p_value = scipy.stats.pearsonr(df_hours.gpa, df_hours.sport_performance)\n",
    "p_coeff"
   ]
  },
  {
   "cell_type": "code",
   "execution_count": 33,
   "metadata": {
    "collapsed": false
   },
   "outputs": [
    {
     "data": {
      "text/plain": [
       "0.0022881402736224248"
      ]
     },
     "execution_count": 33,
     "metadata": {},
     "output_type": "execute_result"
    }
   ],
   "source": [
    "r_coeff, p_value = scipy.stats.spearmanr(df_hours.gpa, df_hours.sport_performance)\n",
    "r_coeff"
   ]
  },
  {
   "cell_type": "markdown",
   "metadata": {},
   "source": [
    "## Part 4: Distribution Sim"
   ]
  },
  {
   "cell_type": "code",
   "execution_count": 14,
   "metadata": {
    "collapsed": false
   },
   "outputs": [],
   "source": [
    "import numpy as np\n",
    "num_views = np.random.randint(1000, size = 1) +5000\n",
    "conversion = np.random.choice([0,1], 1, p=[0.88, 0.12])\n",
    "profit_p_sale = np.random.choice([50,60], 1, p=[.2, .8])"
   ]
  },
  {
   "cell_type": "code",
   "execution_count": 16,
   "metadata": {
    "collapsed": false
   },
   "outputs": [
    {
     "data": {
      "text/plain": [
       "[41170,\n",
       " 37050,\n",
       " 42760,\n",
       " 36960,\n",
       " 41790,\n",
       " 37170,\n",
       " 36940,\n",
       " 35210,\n",
       " 36900,\n",
       " 35310,\n",
       " 35700,\n",
       " 38880,\n",
       " 38810,\n",
       " 36820,\n",
       " 33590,\n",
       " 38840,\n",
       " 41790,\n",
       " 34840,\n",
       " 37860,\n",
       " 37170,\n",
       " 41020,\n",
       " 42820,\n",
       " 38240,\n",
       " 39760,\n",
       " 34680,\n",
       " 36160,\n",
       " 39710,\n",
       " 33870,\n",
       " 34560,\n",
       " 40380,\n",
       " 41790,\n",
       " 35040,\n",
       " 37750,\n",
       " 36820,\n",
       " 36920,\n",
       " 37630,\n",
       " 40340,\n",
       " 37070,\n",
       " 35580,\n",
       " 38690,\n",
       " 38700,\n",
       " 39320,\n",
       " 35560,\n",
       " 37920,\n",
       " 39700,\n",
       " 38610,\n",
       " 39260,\n",
       " 37510,\n",
       " 41360,\n",
       " 37370,\n",
       " 39090,\n",
       " 44300,\n",
       " 38320,\n",
       " 41790,\n",
       " 37600,\n",
       " 39710,\n",
       " 42770,\n",
       " 38040,\n",
       " 41040,\n",
       " 37540,\n",
       " 43300,\n",
       " 37390,\n",
       " 39700,\n",
       " 34110,\n",
       " 38200,\n",
       " 36370,\n",
       " 41290,\n",
       " 40740,\n",
       " 41560,\n",
       " 37620,\n",
       " 39290,\n",
       " 41060,\n",
       " 37850,\n",
       " 38250,\n",
       " 39390,\n",
       " 38790,\n",
       " 40780,\n",
       " 38030,\n",
       " 32250,\n",
       " 37230,\n",
       " 41930,\n",
       " 37210,\n",
       " 39900,\n",
       " 36030,\n",
       " 36250,\n",
       " 36200,\n",
       " 41240,\n",
       " 35810,\n",
       " 39070,\n",
       " 41320,\n",
       " 37600,\n",
       " 42220,\n",
       " 34520,\n",
       " 34740,\n",
       " 37540,\n",
       " 34670,\n",
       " 42930,\n",
       " 42120,\n",
       " 40310,\n",
       " 38490,\n",
       " 38150,\n",
       " 33170,\n",
       " 42570,\n",
       " 36410,\n",
       " 39350,\n",
       " 41810,\n",
       " 37180,\n",
       " 40200,\n",
       " 38030,\n",
       " 37270,\n",
       " 35220,\n",
       " 36580,\n",
       " 38200,\n",
       " 36670,\n",
       " 39440,\n",
       " 41480,\n",
       " 40040,\n",
       " 41210,\n",
       " 41720,\n",
       " 37620,\n",
       " 39350,\n",
       " 34330,\n",
       " 35370,\n",
       " 35960,\n",
       " 37880,\n",
       " 34600,\n",
       " 38180,\n",
       " 36170,\n",
       " 32350,\n",
       " 38780,\n",
       " 40340,\n",
       " 41680,\n",
       " 43090,\n",
       " 36400,\n",
       " 38340,\n",
       " 36160,\n",
       " 34880,\n",
       " 37080,\n",
       " 41380,\n",
       " 35480,\n",
       " 34810,\n",
       " 36360,\n",
       " 37560,\n",
       " 42230,\n",
       " 40680,\n",
       " 40730,\n",
       " 39430,\n",
       " 38130,\n",
       " 39060,\n",
       " 40730,\n",
       " 37090,\n",
       " 37970,\n",
       " 34480,\n",
       " 40940,\n",
       " 37620,\n",
       " 36120,\n",
       " 31880,\n",
       " 35250,\n",
       " 43650,\n",
       " 38560,\n",
       " 39860,\n",
       " 42520,\n",
       " 33180,\n",
       " 39070,\n",
       " 37780,\n",
       " 37310,\n",
       " 35030,\n",
       " 34180,\n",
       " 37760,\n",
       " 34920,\n",
       " 41760,\n",
       " 40030,\n",
       " 40870,\n",
       " 34730,\n",
       " 37690,\n",
       " 40260,\n",
       " 41400,\n",
       " 38540,\n",
       " 36850,\n",
       " 36220,\n",
       " 39670,\n",
       " 39410,\n",
       " 37660,\n",
       " 37520,\n",
       " 36450,\n",
       " 35460,\n",
       " 35570,\n",
       " 37440,\n",
       " 40390,\n",
       " 40450,\n",
       " 41420,\n",
       " 42600,\n",
       " 38810,\n",
       " 33800,\n",
       " 37020,\n",
       " 36930,\n",
       " 36060,\n",
       " 38440,\n",
       " 34590,\n",
       " 37700,\n",
       " 36360,\n",
       " 43620,\n",
       " 43850,\n",
       " 39320,\n",
       " 41570,\n",
       " 38350,\n",
       " 40860,\n",
       " 37630,\n",
       " 37670,\n",
       " 38190,\n",
       " 35360,\n",
       " 39200,\n",
       " 41650,\n",
       " 36570,\n",
       " 40580,\n",
       " 36870,\n",
       " 37810,\n",
       " 36250,\n",
       " 38060,\n",
       " 33530,\n",
       " 40720,\n",
       " 35500,\n",
       " 36120,\n",
       " 34570,\n",
       " 39740,\n",
       " 35940,\n",
       " 40260,\n",
       " 36490,\n",
       " 36000,\n",
       " 43670,\n",
       " 32830,\n",
       " 38210,\n",
       " 42590,\n",
       " 38300,\n",
       " 35280,\n",
       " 40160,\n",
       " 39430,\n",
       " 34880,\n",
       " 39210,\n",
       " 35740,\n",
       " 37530,\n",
       " 44210,\n",
       " 34380,\n",
       " 34340,\n",
       " 39890,\n",
       " 38330,\n",
       " 36890,\n",
       " 42330,\n",
       " 39490,\n",
       " 41090,\n",
       " 42080,\n",
       " 37970,\n",
       " 39800,\n",
       " 40640,\n",
       " 35850,\n",
       " 42050,\n",
       " 39370,\n",
       " 40170,\n",
       " 36210,\n",
       " 39700,\n",
       " 36240,\n",
       " 41000,\n",
       " 35840,\n",
       " 35350,\n",
       " 35460,\n",
       " 38870,\n",
       " 36090,\n",
       " 35990,\n",
       " 33440,\n",
       " 35880,\n",
       " 37770,\n",
       " 38670,\n",
       " 35690,\n",
       " 43170,\n",
       " 37820,\n",
       " 37810,\n",
       " 38030,\n",
       " 34290,\n",
       " 40300,\n",
       " 40730,\n",
       " 43110,\n",
       " 37500,\n",
       " 39250,\n",
       " 33100,\n",
       " 38580,\n",
       " 40640,\n",
       " 39750,\n",
       " 38120,\n",
       " 39670,\n",
       " 39660,\n",
       " 38270,\n",
       " 35540,\n",
       " 37130,\n",
       " 39060,\n",
       " 34470,\n",
       " 34550,\n",
       " 40210,\n",
       " 40420,\n",
       " 33750,\n",
       " 39940,\n",
       " 39500,\n",
       " 37510,\n",
       " 38910,\n",
       " 38390,\n",
       " 38560,\n",
       " 34570,\n",
       " 37980,\n",
       " 38870,\n",
       " 37640,\n",
       " 35600,\n",
       " 38170,\n",
       " 38530,\n",
       " 41430,\n",
       " 42700,\n",
       " 35750,\n",
       " 33940,\n",
       " 39050,\n",
       " 34840,\n",
       " 39210,\n",
       " 38620,\n",
       " 42420,\n",
       " 38300,\n",
       " 37610,\n",
       " 41710,\n",
       " 35810,\n",
       " 35040,\n",
       " 38500,\n",
       " 40450,\n",
       " 40290,\n",
       " 38140,\n",
       " 38340,\n",
       " 37080,\n",
       " 41100,\n",
       " 42130,\n",
       " 36190,\n",
       " 35810,\n",
       " 40190,\n",
       " 36930,\n",
       " 36400,\n",
       " 44520,\n",
       " 39870,\n",
       " 38040,\n",
       " 35890,\n",
       " 36230,\n",
       " 38200,\n",
       " 37220,\n",
       " 43440,\n",
       " 38130,\n",
       " 37630,\n",
       " 34990,\n",
       " 38500,\n",
       " 38860,\n",
       " 34220,\n",
       " 39560,\n",
       " 41220,\n",
       " 38460,\n",
       " 37190,\n",
       " 40790,\n",
       " 40900,\n",
       " 35660,\n",
       " 39180,\n",
       " 37660,\n",
       " 41170,\n",
       " 40190,\n",
       " 36200,\n",
       " 39950,\n",
       " 38860,\n",
       " 40190,\n",
       " 38210,\n",
       " 38100,\n",
       " 37050,\n",
       " 39980,\n",
       " 37320,\n",
       " 34070,\n",
       " 33910,\n",
       " 35290,\n",
       " 35120,\n",
       " 37210,\n",
       " 36940,\n",
       " 40640,\n",
       " 36270,\n",
       " 39880,\n",
       " 39220,\n",
       " 35520,\n",
       " 41450,\n",
       " 35260,\n",
       " 40990,\n",
       " 41010,\n",
       " 37790,\n",
       " 38400,\n",
       " 37880,\n",
       " 36260,\n",
       " 35320,\n",
       " 38110,\n",
       " 35400,\n",
       " 38350,\n",
       " 35180,\n",
       " 35160,\n",
       " 39260,\n",
       " 40490,\n",
       " 36330,\n",
       " 37890,\n",
       " 41480,\n",
       " 39540,\n",
       " 37330,\n",
       " 35370,\n",
       " 34820,\n",
       " 32860,\n",
       " 39460,\n",
       " 37110,\n",
       " 39350,\n",
       " 36720,\n",
       " 40380,\n",
       " 41280,\n",
       " 39940,\n",
       " 34840,\n",
       " 34030,\n",
       " 38700,\n",
       " 35160,\n",
       " 40090,\n",
       " 40930,\n",
       " 39810,\n",
       " 38170,\n",
       " 37370,\n",
       " 36990,\n",
       " 39810,\n",
       " 39080,\n",
       " 34730,\n",
       " 35750,\n",
       " 34120,\n",
       " 41510,\n",
       " 34810,\n",
       " 35800,\n",
       " 39680,\n",
       " 41370,\n",
       " 37020,\n",
       " 39660,\n",
       " 38590,\n",
       " 39840,\n",
       " 37850,\n",
       " 39890,\n",
       " 37260,\n",
       " 44410,\n",
       " 40500,\n",
       " 44580,\n",
       " 38370,\n",
       " 37130,\n",
       " 37890,\n",
       " 42340,\n",
       " 41880,\n",
       " 40130,\n",
       " 37300,\n",
       " 42990,\n",
       " 36260,\n",
       " 37820,\n",
       " 41650,\n",
       " 36310,\n",
       " 33120,\n",
       " 36600,\n",
       " 40040,\n",
       " 41120,\n",
       " 37860,\n",
       " 35570,\n",
       " 35400,\n",
       " 36120,\n",
       " 38250,\n",
       " 39440,\n",
       " 36130,\n",
       " 40860,\n",
       " 38350,\n",
       " 36010,\n",
       " 34380,\n",
       " 36490,\n",
       " 36130,\n",
       " 41790,\n",
       " 38510,\n",
       " 35590,\n",
       " 39870,\n",
       " 35090,\n",
       " 41420,\n",
       " 39390,\n",
       " 42590,\n",
       " 40940,\n",
       " 37360,\n",
       " 35260,\n",
       " 35080,\n",
       " 35470,\n",
       " 37660,\n",
       " 34080,\n",
       " 43370,\n",
       " 40790,\n",
       " 37600,\n",
       " 38260,\n",
       " 34970,\n",
       " 37980,\n",
       " 38000,\n",
       " 39840,\n",
       " 33910,\n",
       " 39700,\n",
       " 38090,\n",
       " 36860,\n",
       " 42590,\n",
       " 40640,\n",
       " 40910,\n",
       " 38700,\n",
       " 36990,\n",
       " 34540,\n",
       " 37030,\n",
       " 34960,\n",
       " 36920,\n",
       " 41330,\n",
       " 38270,\n",
       " 37330,\n",
       " 42410,\n",
       " 36960,\n",
       " 35800,\n",
       " 35720,\n",
       " 36220,\n",
       " 40400,\n",
       " 37790,\n",
       " 34650,\n",
       " 39050,\n",
       " 43300,\n",
       " 39160,\n",
       " 38070,\n",
       " 33640,\n",
       " 42210,\n",
       " 37290,\n",
       " 35790,\n",
       " 34740,\n",
       " 33020,\n",
       " 38740,\n",
       " 39150,\n",
       " 39290,\n",
       " 38120,\n",
       " 44310,\n",
       " 37660,\n",
       " 37640,\n",
       " 39480,\n",
       " 40230,\n",
       " 37340,\n",
       " 40750,\n",
       " 39310,\n",
       " 39500,\n",
       " 36460,\n",
       " 42160,\n",
       " 39450,\n",
       " 37470,\n",
       " 39580,\n",
       " 38580,\n",
       " 36780,\n",
       " 37530,\n",
       " 38490,\n",
       " 37800,\n",
       " 36370,\n",
       " 38840,\n",
       " 35530,\n",
       " 37330,\n",
       " 35940,\n",
       " 41020,\n",
       " 33690,\n",
       " 36630,\n",
       " 35000,\n",
       " 40120,\n",
       " 39020,\n",
       " 37280,\n",
       " 39500,\n",
       " 38640,\n",
       " 39030,\n",
       " 40060,\n",
       " 39820,\n",
       " 40400,\n",
       " 36710,\n",
       " 40600,\n",
       " 37070,\n",
       " 41170,\n",
       " 37030,\n",
       " 36400,\n",
       " 37240,\n",
       " 36150,\n",
       " 41150,\n",
       " 38140,\n",
       " 41490,\n",
       " 37240,\n",
       " 42770,\n",
       " 35020,\n",
       " 36520,\n",
       " 35480,\n",
       " 40450,\n",
       " 36470,\n",
       " 41070,\n",
       " 39340,\n",
       " 41500,\n",
       " 37340,\n",
       " 41560,\n",
       " 42030,\n",
       " 35320,\n",
       " 43760,\n",
       " 39620,\n",
       " 37020,\n",
       " 40040,\n",
       " 35920,\n",
       " 35380,\n",
       " 40400,\n",
       " 43320,\n",
       " 41980,\n",
       " 42120,\n",
       " 37500,\n",
       " 40690,\n",
       " 33060,\n",
       " 38760,\n",
       " 37980,\n",
       " 39220,\n",
       " 37040,\n",
       " 41830,\n",
       " 37800,\n",
       " 42280,\n",
       " 39700,\n",
       " 41360,\n",
       " 41030,\n",
       " 38020,\n",
       " 39990,\n",
       " 38920,\n",
       " 40310,\n",
       " 35100,\n",
       " 36400,\n",
       " 40360,\n",
       " 37450,\n",
       " 36660,\n",
       " 41450,\n",
       " 41120,\n",
       " 40720,\n",
       " 41260,\n",
       " 34950,\n",
       " 36940,\n",
       " 36040,\n",
       " 37910,\n",
       " 42170,\n",
       " 36010,\n",
       " 37480,\n",
       " 40220,\n",
       " 34290,\n",
       " 43050,\n",
       " 40470,\n",
       " 38540,\n",
       " 38720,\n",
       " 42380,\n",
       " 38020,\n",
       " 38510,\n",
       " 39230,\n",
       " 35140,\n",
       " 40230,\n",
       " 41120,\n",
       " 37260,\n",
       " 42690,\n",
       " 35420,\n",
       " 34430,\n",
       " 38530,\n",
       " 41850,\n",
       " 35890,\n",
       " 38730,\n",
       " 37480,\n",
       " 35650,\n",
       " 43470,\n",
       " 38170,\n",
       " 36760,\n",
       " 37490,\n",
       " 40760,\n",
       " 39430,\n",
       " 39770,\n",
       " 36710,\n",
       " 38510,\n",
       " 41390,\n",
       " 40370,\n",
       " 39470,\n",
       " 37160,\n",
       " 38300,\n",
       " 34620,\n",
       " 36020,\n",
       " 39640,\n",
       " 36260,\n",
       " 36960,\n",
       " 38960,\n",
       " 40410,\n",
       " 37650,\n",
       " 37610,\n",
       " 40200,\n",
       " 39450,\n",
       " 42090,\n",
       " 39100,\n",
       " 38290,\n",
       " 36600,\n",
       " 37200,\n",
       " 37650,\n",
       " 39770,\n",
       " 36330,\n",
       " 41280,\n",
       " 38620,\n",
       " 39240,\n",
       " 39380,\n",
       " 39180,\n",
       " 39930,\n",
       " 39100,\n",
       " 42810,\n",
       " 34030,\n",
       " 34500,\n",
       " 36150,\n",
       " 37510,\n",
       " 41240,\n",
       " 42080,\n",
       " 36060,\n",
       " 38590,\n",
       " 38300,\n",
       " 40000,\n",
       " 35540,\n",
       " 37110,\n",
       " 38790,\n",
       " 41650,\n",
       " 36460,\n",
       " 44310,\n",
       " 38150,\n",
       " 41280,\n",
       " 37780,\n",
       " 40360,\n",
       " 34970,\n",
       " 37400,\n",
       " 39140,\n",
       " 38440,\n",
       " 36900,\n",
       " 40080,\n",
       " 40040,\n",
       " 36230,\n",
       " 35160,\n",
       " 35800,\n",
       " 41880,\n",
       " 34310,\n",
       " 40700,\n",
       " 39630,\n",
       " 37500,\n",
       " 40600,\n",
       " 38980,\n",
       " 37040,\n",
       " 40920,\n",
       " 35130,\n",
       " 39640,\n",
       " 36950,\n",
       " 35280,\n",
       " 39640,\n",
       " 38630,\n",
       " 39370,\n",
       " 39890,\n",
       " 33080,\n",
       " 39450,\n",
       " 35490,\n",
       " 36630,\n",
       " 42650,\n",
       " 38820,\n",
       " 38540,\n",
       " 36720,\n",
       " 38160,\n",
       " 38260,\n",
       " 33010,\n",
       " 38640,\n",
       " 39100,\n",
       " 40950,\n",
       " 33640,\n",
       " 37280,\n",
       " 34620,\n",
       " 33350,\n",
       " 36080,\n",
       " 38220,\n",
       " 36100,\n",
       " 31720,\n",
       " 36000,\n",
       " 39050,\n",
       " 39570,\n",
       " 37580,\n",
       " 37870,\n",
       " 42330,\n",
       " 38580,\n",
       " 39380,\n",
       " 37550,\n",
       " 40360,\n",
       " 39390,\n",
       " 35830,\n",
       " 38240,\n",
       " 36210,\n",
       " 39100,\n",
       " 40420,\n",
       " 39780,\n",
       " 40140,\n",
       " 41620,\n",
       " 39090,\n",
       " 36890,\n",
       " 38560,\n",
       " 38710,\n",
       " 39600,\n",
       " 37670,\n",
       " 36630,\n",
       " 34560,\n",
       " 37270,\n",
       " 38830,\n",
       " 35850,\n",
       " 37140,\n",
       " 39270,\n",
       " 42020,\n",
       " 38150,\n",
       " 37530,\n",
       " 38610,\n",
       " 35790,\n",
       " 41000,\n",
       " 33260,\n",
       " 39010,\n",
       " 39800,\n",
       " 34180,\n",
       " 39660,\n",
       " 36680,\n",
       " 35390,\n",
       " 36210,\n",
       " 34980,\n",
       " 37770,\n",
       " 36310,\n",
       " 38630,\n",
       " 36010,\n",
       " 38950,\n",
       " 32950,\n",
       " 39460,\n",
       " 37320,\n",
       " 35350,\n",
       " 34540,\n",
       " 38320,\n",
       " 34970,\n",
       " 41280,\n",
       " 39940,\n",
       " 38510,\n",
       " 38490,\n",
       " 39800,\n",
       " 35420,\n",
       " 34900,\n",
       " 37810,\n",
       " 37000,\n",
       " 36440,\n",
       " 36570,\n",
       " 35380,\n",
       " 38680,\n",
       " 36340,\n",
       " 38050,\n",
       " 39730,\n",
       " 39870,\n",
       " 36660,\n",
       " 34530,\n",
       " 37950,\n",
       " 40110,\n",
       " 36060,\n",
       " 36270,\n",
       " 38430,\n",
       " 33730,\n",
       " 41100,\n",
       " 42070,\n",
       " 35700,\n",
       " 37330,\n",
       " 41450,\n",
       " 43700,\n",
       " 43660,\n",
       " 38090,\n",
       " 38170,\n",
       " 39170,\n",
       " 36720,\n",
       " 37580,\n",
       " 40220,\n",
       " 40600,\n",
       " 38170,\n",
       " 36740,\n",
       " 37270,\n",
       " 37880,\n",
       " 41570,\n",
       " 39420,\n",
       " 39520,\n",
       " 42210,\n",
       " 38700,\n",
       " 39670,\n",
       " 37690,\n",
       " 35480,\n",
       " 35400,\n",
       " 40680,\n",
       " 40930,\n",
       " 39520,\n",
       " 38230,\n",
       " 43590,\n",
       " 37760,\n",
       " 39290,\n",
       " 37150,\n",
       " 35540,\n",
       " 37710,\n",
       " 39650,\n",
       " 37460,\n",
       " 39470,\n",
       " 40320,\n",
       " 34960,\n",
       " 37530,\n",
       " 40670,\n",
       " 40370,\n",
       " 38470,\n",
       " 33270,\n",
       " 40620,\n",
       " 39170,\n",
       " 42970,\n",
       " 36550,\n",
       " 37900,\n",
       " 35120,\n",
       " 39090,\n",
       " 38570,\n",
       " 39650,\n",
       " 40160,\n",
       " 39060,\n",
       " 33690,\n",
       " 35270,\n",
       " 34970,\n",
       " 38220,\n",
       " 37720,\n",
       " 37470,\n",
       " 38520,\n",
       " 34630,\n",
       " 42050,\n",
       " 33250,\n",
       " 40520,\n",
       " 39030,\n",
       " 38330,\n",
       " 34390,\n",
       " 38100,\n",
       " 37260,\n",
       " 40660,\n",
       " 36000,\n",
       " 40330,\n",
       " 35620,\n",
       " 38360,\n",
       " 33490,\n",
       " 35920,\n",
       " 42690,\n",
       " 37510,\n",
       " 39360,\n",
       " 39220,\n",
       " 37670,\n",
       " 35930,\n",
       " 36110,\n",
       " 39400,\n",
       " 36710,\n",
       " 35250,\n",
       " 34480,\n",
       " 36820,\n",
       " 39260,\n",
       " 37450,\n",
       " 38160,\n",
       " 40280,\n",
       " 38490,\n",
       " 37670,\n",
       " 36940,\n",
       " 38190,\n",
       " 40450,\n",
       " 34680,\n",
       " 35650,\n",
       " 37230,\n",
       " 38110,\n",
       " 39320,\n",
       " 37270,\n",
       " 34340,\n",
       " 37860,\n",
       " 36280,\n",
       " 41310,\n",
       " 36600,\n",
       " 34100,\n",
       " 42500,\n",
       " 37560,\n",
       " 37300,\n",
       " 40060,\n",
       " 40200,\n",
       " 33860,\n",
       " 35360,\n",
       " 39140,\n",
       " 38210,\n",
       " 36500,\n",
       " 41410,\n",
       " 40630,\n",
       " 37990,\n",
       " 36760,\n",
       " 41630,\n",
       " 38460,\n",
       " 39900,\n",
       " 38080,\n",
       " 37660,\n",
       " 41860,\n",
       " 37140,\n",
       " 42250,\n",
       " 40930,\n",
       " 41740,\n",
       " 37430,\n",
       " 41520,\n",
       " 39500,\n",
       " 36430,\n",
       " 41900]"
      ]
     },
     "execution_count": 16,
     "metadata": {},
     "output_type": "execute_result"
    }
   ],
   "source": [
    "# profit = []\n",
    "# for _ in range(100):\n",
    "#     p =0\n",
    "#     for i in xrange(np.random.randint(1000, size = 1) +5000):\n",
    "#         p+= np.random.choice([0,1], 1, p=[0.88, 0.12])[0] * \\\n",
    "#          np.random.choice([50,60], 1, p=[.2, .8])[0]\n",
    "#     profit.append(p)\n",
    "# profit\n",
    "\n",
    "profit = []\n",
    "for _ in range(1000):\n",
    "    n = np.random.randint(1000, size = 1) +5000\n",
    "    p = (np.random.choice([0,1], n, p=[0.88, 0.12]) * \\\n",
    "        np.random.choice([50,60], n, p=[.2, .8])).sum()\n",
    "    profit.append(p)\n",
    "profit"
   ]
  },
  {
   "cell_type": "code",
   "execution_count": 17,
   "metadata": {
    "collapsed": false
   },
   "outputs": [
    {
     "data": {
      "text/plain": [
       "array([0, 1, 0, ..., 0, 0, 0])"
      ]
     },
     "execution_count": 17,
     "metadata": {},
     "output_type": "execute_result"
    }
   ],
   "source": [
    "np.random.choice([0,1],n, p=[0.88, .12])\n",
    "\n",
    "\n",
    "#plt.hist(pd.Series(profit))"
   ]
  },
  {
   "cell_type": "code",
   "execution_count": 18,
   "metadata": {
    "collapsed": false
   },
   "outputs": [
    {
     "data": {
      "text/plain": [
       "(33322.793554146614, 43158.50644585339)"
      ]
     },
     "execution_count": 18,
     "metadata": {},
     "output_type": "execute_result"
    }
   ],
   "source": [
    "profit_sd = pd.Series(profit).std()\n",
    "profit_mean = pd.Series(profit).mean()\n",
    "CI95_tup = ((profit_mean-(2*profit_sd)), (profit_mean + (2*profit_sd)))\n",
    "CI95_tup"
   ]
  },
  {
   "cell_type": "code",
   "execution_count": 38,
   "metadata": {
    "collapsed": false
   },
   "outputs": [
    {
     "data": {
      "text/plain": [
       "38280.0"
      ]
     },
     "execution_count": 38,
     "metadata": {},
     "output_type": "execute_result"
    }
   ],
   "source": [
    "5500*0.12*58"
   ]
  },
  {
   "cell_type": "code",
   "execution_count": null,
   "metadata": {
    "collapsed": true
   },
   "outputs": [],
   "source": [
    "pro"
   ]
  }
 ],
 "metadata": {
  "kernelspec": {
   "display_name": "Python 2",
   "language": "python",
   "name": "python2"
  },
  "language_info": {
   "codemirror_mode": {
    "name": "ipython",
    "version": 2
   },
   "file_extension": ".py",
   "mimetype": "text/x-python",
   "name": "python",
   "nbconvert_exporter": "python",
   "pygments_lexer": "ipython2",
   "version": "2.7.11"
  }
 },
 "nbformat": 4,
 "nbformat_minor": 0
}
